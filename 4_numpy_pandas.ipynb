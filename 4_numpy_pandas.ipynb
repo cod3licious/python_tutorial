{
 "cells": [
  {
   "cell_type": "markdown",
   "metadata": {},
   "source": [
    "## Basic Data Science Libraries\n",
    "\n",
    "This notebook contains a brief introduction into the basic data science libraries `numpy`, `pandas`, and `matplotlib`. These libraries help you to efficiently store and look at your data. It is especially important that you know how to access individual elements/rows/columns from a matrix or table with various indexing techniques. Therefore, make sure to play around here a bit until you feel comfortable with these methods."
   ]
  },
  {
   "cell_type": "markdown",
   "metadata": {},
   "source": [
    "### numpy\n",
    "The `numpy` library is used for mathematical operations and scientific computations. If you need more advanced operations, also check out the `scipy` library, which is closely related to numpy. If you have worked with MATLAB before, many things here will seem very familiar, just always remember that in Python you start indexing at 0, not 1.\n",
    "\n",
    "The most important data structure in numpy is the so called `array`, which is used to represent a vector or matrix."
   ]
  },
  {
   "cell_type": "code",
   "execution_count": null,
   "metadata": {},
   "outputs": [],
   "source": [
    "# import the library with its standard abbreviation\n",
    "import numpy as np"
   ]
  },
  {
   "cell_type": "code",
   "execution_count": null,
   "metadata": {},
   "outputs": [],
   "source": [
    "# create a vector with 3 dimensions from a list\n",
    "a = np.array([1., -2., 0.])\n",
    "# look at the vector\n",
    "a"
   ]
  },
  {
   "cell_type": "code",
   "execution_count": null,
   "metadata": {},
   "outputs": [],
   "source": [
    "# create a 2x3 matrix from nested lists\n",
    "M = np.array([[1., 2., 3.], [4., 5., 6.]])\n",
    "M"
   ]
  },
  {
   "cell_type": "code",
   "execution_count": null,
   "metadata": {},
   "outputs": [],
   "source": [
    "# multiply all elements in the matrix by 3\n",
    "3*M"
   ]
  },
  {
   "cell_type": "code",
   "execution_count": null,
   "metadata": {},
   "outputs": [],
   "source": [
    "# multiply the matrix M with the vector a\n",
    "np.dot(M, a)"
   ]
  },
  {
   "cell_type": "code",
   "execution_count": null,
   "metadata": {},
   "outputs": [],
   "source": [
    "# multiply the matrix M with its transpose\n",
    "np.dot(M, M.T)"
   ]
  },
  {
   "cell_type": "code",
   "execution_count": null,
   "metadata": {},
   "outputs": [],
   "source": [
    "# make sure the dimensions always line up, otherwise you'll get an error like this\n",
    "np.dot(M, M)"
   ]
  },
  {
   "cell_type": "code",
   "execution_count": null,
   "metadata": {},
   "outputs": [],
   "source": [
    "# check the shape of a matrix or vector\n",
    "M.shape"
   ]
  },
  {
   "cell_type": "code",
   "execution_count": null,
   "metadata": {},
   "outputs": [],
   "source": [
    "# create a 3 dimensional identity matrix\n",
    "np.eye(3)"
   ]
  },
  {
   "cell_type": "code",
   "execution_count": null,
   "metadata": {},
   "outputs": [],
   "source": [
    "# create a 3x2 matrix with zeros\n",
    "np.zeros((3, 2))"
   ]
  },
  {
   "cell_type": "code",
   "execution_count": null,
   "metadata": {},
   "outputs": [],
   "source": [
    "# np.random provides different options to create random data\n",
    "# create a 4x4 matrix with random, normally distributed values\n",
    "# you might want to set a random seed first to get reproducible results:\n",
    "# --> execute the cell a few times to see you always get a different matrix\n",
    "# --> then uncomment the line below and excecute it again a few times\n",
    "# np.random.seed(13)\n",
    "R = np.random.randn(4, 4)\n",
    "R"
   ]
  },
  {
   "cell_type": "code",
   "execution_count": null,
   "metadata": {},
   "outputs": [],
   "source": [
    "# indexing of matrices works similar to indexing lists\n",
    "# remember: indexing starts at 0 and the last element is exclusive\n",
    "# this gives you the first 2 rows with all columns\n",
    "R[:2, :]  # for rows, you can also ommit the last :, i.e., write R[:2]"
   ]
  },
  {
   "cell_type": "code",
   "execution_count": null,
   "metadata": {},
   "outputs": [],
   "source": [
    "# all rows starting at the 3rd row with all columns\n",
    "R[2:, :]"
   ]
  },
  {
   "cell_type": "code",
   "execution_count": null,
   "metadata": {},
   "outputs": [],
   "source": [
    "# column 2 and 4\n",
    "R[:, [1, 3]]"
   ]
  },
  {
   "cell_type": "code",
   "execution_count": null,
   "metadata": {},
   "outputs": [],
   "source": [
    "# column 3 - notice the shape of the returned array, \n",
    "# i.e., it's a proper column vector (shape: (4, 1))\n",
    "R[:, [2]]"
   ]
  },
  {
   "cell_type": "code",
   "execution_count": null,
   "metadata": {},
   "outputs": [],
   "source": [
    "# column 3 but as a flattened array (shape: (4,))\n",
    "R[:, 2]"
   ]
  },
  {
   "cell_type": "code",
   "execution_count": null,
   "metadata": {},
   "outputs": [],
   "source": [
    "# create a binary mask that indicates which values in R are smaller than 0\n",
    "M = (R < 0)\n",
    "M"
   ]
  },
  {
   "cell_type": "code",
   "execution_count": null,
   "metadata": {},
   "outputs": [],
   "source": [
    "# set all entries in R that are smaller than 0 to -99\n",
    "R[M] = -99.\n",
    "R"
   ]
  },
  {
   "cell_type": "markdown",
   "metadata": {},
   "source": [
    "### Pandas\n",
    "\n",
    "The `pandas` library takes our basic data manipulation to the next level. It is a lifesaver if you need to read in nasty excel files and helps you with all your basic data science tasks, e.g., if you want to get a quick overview of your data or create some simple plots. If you have used the R programming language before, some concepts here might be familiar to you.\n",
    "\n",
    "The most important data structure in pandas is the `DataFrame`, which is simply a table with all your data in it. \n",
    "We'll always assume that our data is structured such that each row corresponds to one data point (or observation), while each column represents a different attribute/variable that was measured for the data points (in the machine learning contexts, these different attributes are usually refered to as \"features\"). "
   ]
  },
  {
   "cell_type": "code",
   "execution_count": null,
   "metadata": {},
   "outputs": [],
   "source": [
    "# import with standard abbreviation\n",
    "import pandas as pd"
   ]
  },
  {
   "cell_type": "markdown",
   "metadata": {},
   "source": [
    "#### Creating DataFrames"
   ]
  },
  {
   "cell_type": "code",
   "execution_count": null,
   "metadata": {},
   "outputs": [],
   "source": [
    "# create a dataframe from the matrix M\n",
    "pd.DataFrame(M)"
   ]
  },
  {
   "cell_type": "code",
   "execution_count": null,
   "metadata": {},
   "outputs": [],
   "source": [
    "# create a more interesting dataframe from a dictionary (keys are columns (\"features\"))\n",
    "df = pd.DataFrame(\n",
    "       {\n",
    "          'sex': ['m', 'w', 'm', 'w'],\n",
    "          'height': [1.80, 1.77, 1.89, 1.65],\n",
    "          'weight': [65.3, 73.4, 80.0, 77.0],\n",
    "          'subject_id': ['subject1', 'subject8', 'subject12', 'subject23']\n",
    "       }\n",
    ")\n",
    "# look at the dataframe\n",
    "df"
   ]
  },
  {
   "cell_type": "code",
   "execution_count": null,
   "metadata": {},
   "outputs": [],
   "source": [
    "# notice the additional column with 0-3 above; this is the index column\n",
    "# for easier handeling of the data, we can explicitly set\n",
    "# the subject_id column as our index\n",
    "df = df.set_index('subject_id')\n",
    "df"
   ]
  },
  {
   "cell_type": "markdown",
   "metadata": {},
   "source": [
    "#### Basic manipulations & statistics"
   ]
  },
  {
   "cell_type": "code",
   "execution_count": null,
   "metadata": {},
   "outputs": [],
   "source": [
    "# select the column \"sex\" from the dataframe \n",
    "# (returns a pandas series, similar to a flat array in numpy)\n",
    "df['sex']"
   ]
  },
  {
   "cell_type": "code",
   "execution_count": null,
   "metadata": {},
   "outputs": [],
   "source": [
    "# add a new column (similar as adding a new key-value pair to a dict)\n",
    "# compute with other columns from the dataframe\n",
    "df['BMI'] = df['weight'] / (df['height'] ** 2)\n",
    "df"
   ]
  },
  {
   "cell_type": "code",
   "execution_count": null,
   "metadata": {},
   "outputs": [],
   "source": [
    "# get all column names\n",
    "df.columns"
   ]
  },
  {
   "cell_type": "code",
   "execution_count": null,
   "metadata": {},
   "outputs": [],
   "source": [
    "# we can compute basic statistics on the dataframe\n",
    "df['BMI'].mean()"
   ]
  },
  {
   "cell_type": "code",
   "execution_count": null,
   "metadata": {},
   "outputs": [],
   "source": [
    "# summary statistics of the dataframe\n",
    "df.describe()"
   ]
  },
  {
   "cell_type": "code",
   "execution_count": null,
   "metadata": {},
   "outputs": [],
   "source": [
    "# by grouping based on one column...\n",
    "g = df.groupby('sex')\n",
    "# ...we can compute statistics for different groups\n",
    "g.BMI.mean()"
   ]
  },
  {
   "cell_type": "code",
   "execution_count": null,
   "metadata": {},
   "outputs": [],
   "source": [
    "# on a group we can also compute different aggregations for different columns\n",
    "# maximum for height, minimum for weight, mean for BMI\n",
    "g.agg({'height': max, 'weight': min, 'BMI': np.mean}) "
   ]
  },
  {
   "cell_type": "markdown",
   "metadata": {},
   "source": [
    "#### Import & Export"
   ]
  },
  {
   "cell_type": "code",
   "execution_count": null,
   "metadata": {},
   "outputs": [],
   "source": [
    "# we can export our data as a .csv file (other formats are also supported)\n",
    "df.to_csv('bmi_dataset.csv')"
   ]
  },
  {
   "cell_type": "code",
   "execution_count": null,
   "metadata": {},
   "outputs": [],
   "source": [
    "# we can also read in files and create a dataframe from them\n",
    "df_imported = pd.read_csv('bmi_dataset.csv')\n",
    "df_imported"
   ]
  },
  {
   "cell_type": "code",
   "execution_count": null,
   "metadata": {},
   "outputs": [],
   "source": [
    "# with additional options, we can already correctly set our index column\n",
    "# other options also allow to e.g. skip some lines at the beginning of a file, etc.\n",
    "df_imported = pd.read_csv('bmi_dataset.csv', index_col='subject_id')\n",
    "df_imported"
   ]
  },
  {
   "cell_type": "markdown",
   "metadata": {},
   "source": [
    "#### Indexing"
   ]
  },
  {
   "cell_type": "code",
   "execution_count": null,
   "metadata": {},
   "outputs": [],
   "source": [
    "# get a view of the dataframe with a binary mask based on the column \"sex\"\n",
    "df[df['sex'] == 'm']"
   ]
  },
  {
   "cell_type": "code",
   "execution_count": null,
   "metadata": {},
   "outputs": [],
   "source": [
    "# get only entries from the column \"height\" with the binary mask\n",
    "df['height'][df['sex'] == 'm']"
   ]
  },
  {
   "cell_type": "code",
   "execution_count": null,
   "metadata": {},
   "outputs": [],
   "source": [
    "# filter the dataframe based on the height\n",
    "df[df['height'] < 1.80]"
   ]
  },
  {
   "cell_type": "code",
   "execution_count": null,
   "metadata": {},
   "outputs": [],
   "source": [
    "# select a specific data point based on the index name\n",
    "df.loc['subject12']"
   ]
  },
  {
   "cell_type": "code",
   "execution_count": null,
   "metadata": {},
   "outputs": [],
   "source": [
    "# select a specific data point based on the row number\n",
    "df.iloc[0]"
   ]
  },
  {
   "cell_type": "code",
   "execution_count": null,
   "metadata": {},
   "outputs": [],
   "source": [
    "# select a specific entry in the dataframe using index name and column name\n",
    "df.loc['subject8', 'BMI']"
   ]
  },
  {
   "cell_type": "markdown",
   "metadata": {},
   "source": [
    "### Matplotlib\n",
    "\n",
    "With the `matplotlib` library, it is possible to create highly customizable plots. It is also the basis for more advanced plotting libraries such as `seaborn`."
   ]
  },
  {
   "cell_type": "code",
   "execution_count": null,
   "metadata": {},
   "outputs": [],
   "source": [
    "# import with standard abbreviation\n",
    "import matplotlib.pyplot as plt"
   ]
  },
  {
   "cell_type": "code",
   "execution_count": null,
   "metadata": {},
   "outputs": [],
   "source": [
    "# get some data that we want to plot\n",
    "x = np.arange(10)  # numpy array with numbers 0 - 9\n",
    "y = x**2           # squared numbers\n",
    "# create a very basic plot of x vs. y\n",
    "plt.figure()   # new canvas\n",
    "plt.plot(x, y) # simple line plot"
   ]
  },
  {
   "cell_type": "code",
   "execution_count": null,
   "metadata": {},
   "outputs": [],
   "source": [
    "# more advanced plot with axis labels etc.\n",
    "plt.figure()\n",
    "plt.plot(x, y, label=\"x^2\")  # label is later used in the legend\n",
    "plt.plot(x, x**3, \"r\", label=\"x^3\") # \"r\" creates a red line\n",
    "# axis labels, legend based on the specified labels, and title\n",
    "plt.xlabel(\"X axis\")\n",
    "plt.ylabel(\"Y axis\")\n",
    "plt.legend(loc=0)  # loc=0 automatically determines the best location for the legend\n",
    "plt.title(\"Title of the figure\")"
   ]
  },
  {
   "cell_type": "code",
   "execution_count": null,
   "metadata": {},
   "outputs": [],
   "source": [
    "# create randomly distributed data\n",
    "x = np.random.randn(100)\n",
    "y = np.random.randn(100)\n",
    "# create a scatter plot of x vs y\n",
    "plt.figure()\n",
    "# by passing for c an array of the same length as x and y,\n",
    "# each dot can have its individual color\n",
    "plt.scatter(x, y, c=x)\n",
    "plt.xlabel(\"X axis\")\n",
    "plt.ylabel(\"Y axis\")\n",
    "plt.colorbar()  # creates a colorbar (more appropriate than a legend here)\n",
    "plt.title(\"Title of the figure\")"
   ]
  },
  {
   "cell_type": "code",
   "execution_count": null,
   "metadata": {},
   "outputs": [],
   "source": []
  }
 ],
 "metadata": {
  "kernelspec": {
   "display_name": "Python 3",
   "language": "python",
   "name": "python3"
  },
  "language_info": {
   "codemirror_mode": {
    "name": "ipython",
    "version": 3
   },
   "file_extension": ".py",
   "mimetype": "text/x-python",
   "name": "python",
   "nbconvert_exporter": "python",
   "pygments_lexer": "ipython3",
   "version": "3.7.3"
  }
 },
 "nbformat": 4,
 "nbformat_minor": 1
}
