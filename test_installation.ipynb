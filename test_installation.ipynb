{
 "cells": [
  {
   "cell_type": "markdown",
   "metadata": {},
   "source": [
    "# Test if installation was successful"
   ]
  },
  {
   "cell_type": "code",
   "execution_count": null,
   "metadata": {},
   "outputs": [],
   "source": [
    "# check versions of the libraries\n",
    "# they should not be too much behind the ones in the comments...\n",
    "import numpy\n",
    "print(\"numpy\", numpy.__version__)        # 1.18.5\n",
    "import pandas\n",
    "print(\"pandas\", pandas.__version__)      # 1.0.5\n",
    "import scipy\n",
    "print(\"scipy\", scipy.__version__)        # 1.4.1\n",
    "import sklearn\n",
    "print(\"sklearn\", sklearn.__version__)    # 0.23.1\n",
    "import matplotlib\n",
    "print(\"matplotlib\", matplotlib.__version__)  # 3.2.2\n",
    "import plotly\n",
    "print(\"plotly\", plotly.__version__)      # 4.9.0\n",
    "print(\"Congratulations! Your installation was successful!\")"
   ]
  },
  {
   "cell_type": "code",
   "execution_count": null,
   "metadata": {},
   "outputs": [],
   "source": []
  }
 ],
 "metadata": {
  "kernelspec": {
   "display_name": "Python 3",
   "language": "python",
   "name": "python3"
  },
  "language_info": {
   "codemirror_mode": {
    "name": "ipython",
    "version": 3
   },
   "file_extension": ".py",
   "mimetype": "text/x-python",
   "name": "python",
   "nbconvert_exporter": "python",
   "pygments_lexer": "ipython3",
   "version": "3.8.3"
  }
 },
 "nbformat": 4,
 "nbformat_minor": 2
}
